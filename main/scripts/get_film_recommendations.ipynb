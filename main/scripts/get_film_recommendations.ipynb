{
 "cells": [
  {
   "cell_type": "markdown",
   "metadata": {},
   "source": [
    "## Data science movie recommendation challenge \n",
    "\n",
    "- Create a function `get_recommendations` which will return the title of the most highly recommended movie for a given user.\n",
    "- The function takes as arguments three dataframes, a name for the user, the year of interest and the recommendation method.\n",
    "- All methods should return a movie title that has not yet been rated by the given user. If there is more than one movie that meets the condition, the function should return the first movie in alphabetical order. "
   ]
  },
  {
   "cell_type": "code",
   "execution_count": 1,
   "metadata": {},
   "outputs": [],
   "source": [
    "import pandas as pd\n",
    "import numpy as np"
   ]
  },
  {
   "cell_type": "markdown",
   "metadata": {},
   "source": [
    "### Read in data from csv files\n",
    "\n",
    "- Define separator to parse by when reading from csv file (see [link](https://stackoverflow.com/questions/18039057/python-pandas-error-tokenizing-data))"
   ]
  },
  {
   "cell_type": "code",
   "execution_count": 2,
   "metadata": {},
   "outputs": [],
   "source": [
    "movies_df = pd.read_csv(\"/home/home02/earshar/data_science/main/data/movies.csv\", sep=\"|\")\n",
    "ratings_df = pd.read_csv(\"/home/home02/earshar/data_science/main/data/ratings.csv\", sep=\"|\")\n",
    "users_df = pd.read_csv(\"/home/home02/earshar/data_science/main/data/users.csv\", sep=\"|\")"
   ]
  },
  {
   "cell_type": "markdown",
   "metadata": {},
   "source": [
    "### Get user ID for chosen user"
   ]
  },
  {
   "cell_type": "code",
   "execution_count": 3,
   "metadata": {},
   "outputs": [],
   "source": [
    "def get_user_id(name: str, users_df: pd.DataFrame):\n",
    "    \"\"\" \n",
    "    Get user ID from pd.DataFrame given user name \n",
    "\n",
    "    User arguments: \n",
    "\n",
    "    -- name: string from pd.DataFrame containing full names for all potential users \n",
    "    -- users_df: pd.DataFrame containing user ID, name, age and gender\n",
    "    \"\"\"\n",
    "    user_info = users_df[users_df['full name'] == name].reset_index(drop=True)\n",
    "    user_id = user_info.loc[0]['user id']\n",
    "    return user_id"
   ]
  },
  {
   "cell_type": "code",
   "execution_count": 4,
   "metadata": {},
   "outputs": [],
   "source": [
    "# user_id = get_user_id(users_df['full name'].iloc[500], users_df)"
   ]
  },
  {
   "cell_type": "markdown",
   "metadata": {},
   "source": [
    "### Ignore movies already rated by user\n",
    "\n",
    "- Use `~` operator to subset values not in given list (see [link](https://pandas.pydata.org/docs/reference/api/pandas.DataFrame.isin.html))\n",
    "- Filter dataframe by list as discussed [here](https://www.statology.org/pandas-filter-in-list/)\n",
    "- Used [this link](https://sparkbyexamples.com/pandas/pandas-get-cell-value-from-dataframe/?expand_article=1) to get the values of `item id` for all rows\n",
    "- Operate on the `movies_not_rated_df` dataframe that we defined earlier\n",
    "- Sort by `item id` and reset index values"
   ]
  },
  {
   "cell_type": "code",
   "execution_count": 5,
   "metadata": {},
   "outputs": [],
   "source": [
    "def ignore_movies_rated_by_user(user_id: int, ratings_df: pd.DataFrame):\n",
    "    \"\"\"\n",
    "    Use the ratings DataFrame to collect all movie IDs not rated by the user. \n",
    "    Exclude all rows for which the value of 'movie ID' matches any of those rated by the user. \n",
    "\n",
    "    User arguments: \n",
    "\n",
    "    -- user_id: integer representing user ID \n",
    "    -- ratings_df: pd.DataFrame containing movie ratings from all users \n",
    "    \"\"\"\n",
    "    movies_not_rated_df = ratings_df[ratings_df['user id'] != user_id].reset_index(drop=True)\n",
    "    movies_rated_df = ratings_df[ratings_df['user id'] == user_id].reset_index(drop=True)\n",
    "    movie_ids = movies_rated_df.loc[:]['item id']\n",
    "\n",
    "    movie_ids_not_rated = movies_not_rated_df[~movies_not_rated_df['item id'].isin(movie_ids)]\n",
    "    movie_ids_not_rated = movie_ids_not_rated.sort_values(by=['item id']).reset_index(drop=True)\n",
    "    return movie_ids_not_rated"
   ]
  },
  {
   "cell_type": "code",
   "execution_count": 6,
   "metadata": {},
   "outputs": [],
   "source": [
    "# movie_ids_not_rated = ignore_movies_rated_by_user(user_id, ratings_df)\n",
    "# movie_ids_not_rated"
   ]
  },
  {
   "cell_type": "markdown",
   "metadata": {},
   "source": [
    "### Link the movie ID dataframe (for all users except the given user) to the movie title and year\n",
    "\n",
    "- Create the `row index` column --> row index from second df corresponding to `item id` from first df\n",
    "- Get the corresponding `movie title` and `release year` from second df\n",
    "- Add these columns to first df so all information is easily accessible "
   ]
  },
  {
   "cell_type": "code",
   "execution_count": 7,
   "metadata": {},
   "outputs": [],
   "source": [
    "def calculate_row_index(movie_id_df: pd.DataFrame):\n",
    "    \"\"\" \n",
    "    Get the row index corresponding to each movie ID.\n",
    "    For some reason there is no movie ID = 267, which throws us off a bit. \n",
    "    \"\"\"\n",
    "\n",
    "    movie_id_df['row index'] = movie_id_df.loc[:]['item id'] - 1\n",
    "    movie_id_df['row index'] = np.where(movie_id_df['row index'] >= 267, \n",
    "                                        movie_id_df['row index']-1, \n",
    "                                        movie_id_df['row index'])\n",
    "\n",
    "    return movie_id_df\n"
   ]
  },
  {
   "cell_type": "code",
   "execution_count": 8,
   "metadata": {},
   "outputs": [],
   "source": [
    "def collate_all_movie_info(movie_id_df: pd.DataFrame, movie_title_df: pd.DataFrame):\n",
    "    \"\"\"\n",
    "    Get the movie title and release year for all movies not rated by the chosen user. \n",
    "    Put this information into the existing 'ratings' dataframe alongside movie ID ('item id'). \n",
    "\n",
    "    User arguments: \n",
    "\n",
    "    -- movie_id_df: pd.DataFrame containing all ratings and movie IDs not rated by the user \n",
    "    -- movie_title_df: pd.DataFrame containing movie title and release year for all movies\n",
    "    \"\"\"\n",
    "\n",
    "    movie_id_df = calculate_row_index(movie_id_df)\n",
    "    movie_title = movie_title_df['movie title'].iloc[movie_id_df['row index']].reset_index(drop=True)\n",
    "    release_year = movie_title_df['release year'].iloc[movie_id_df['row index']].reset_index(drop=True)\n",
    "    movie_id_df['movie title'] = movie_title\n",
    "    movie_id_df['release year'] = release_year\n",
    "    return movie_id_df"
   ]
  },
  {
   "cell_type": "code",
   "execution_count": 9,
   "metadata": {},
   "outputs": [],
   "source": [
    "# movie_ids_and_titles = collate_all_movie_info(movie_ids_not_rated, movies_df)\n",
    "# movie_ids_and_titles"
   ]
  },
  {
   "cell_type": "code",
   "execution_count": 10,
   "metadata": {},
   "outputs": [],
   "source": [
    "def select_single_year(year: int, movie_id_df: pd.DataFrame):\n",
    "    \"\"\" \n",
    "    Select a subset of movies from a single year\n",
    "    \"\"\"\n",
    "\n",
    "    movie_id_df = movie_id_df[movie_id_df['release year'] == year].reset_index(drop=True)\n",
    "\n",
    "    return movie_id_df"
   ]
  },
  {
   "cell_type": "markdown",
   "metadata": {},
   "source": [
    "### Different methods for choosing most highly rated movie\n",
    "\n",
    "- Counting number of times each movie has been rated (see [this article](https://www.geeksforgeeks.org/how-to-extract-the-value-names-and-counts-from-value_counts-in-pandas/))\n",
    "- Calculate mean rating of movies using groupby function (see [this article](https://stackoverflow.com/questions/30482071/how-to-calculate-mean-values-grouped-on-another-column))"
   ]
  },
  {
   "cell_type": "code",
   "execution_count": 11,
   "metadata": {},
   "outputs": [],
   "source": [
    "def choose_movie_by_popularity(movie_df: pd.DataFrame):\n",
    "    \"\"\"\n",
    "    Find the movie rated by the most users\n",
    "    \"\"\"\n",
    "    movie_df = movie_df.sort_values(by=['rating'], ascending=False)\n",
    "    movie_title = movie_df['movie title'].value_counts().index.tolist()[0]\n",
    "    return movie_title"
   ]
  },
  {
   "cell_type": "code",
   "execution_count": 12,
   "metadata": {},
   "outputs": [],
   "source": [
    "def choose_movie_by_rating(movie_df: pd.DataFrame):\n",
    "    \"\"\" \n",
    "    Find the movie rated most highly by users \n",
    "    \"\"\"\n",
    "    mean_movie_rating = movie_df.groupby('movie title', as_index=False)['rating'].mean()\n",
    "    mean_movie_rating = mean_movie_rating.sort_values(by=['rating'], ascending=False)\n",
    "    movie_title = mean_movie_rating['movie title'].iloc[0]\n",
    "    return movie_title"
   ]
  },
  {
   "cell_type": "markdown",
   "metadata": {},
   "source": [
    "### Define main function `get_recommendations`\n",
    "\n",
    "- Use of `unique` found [here](https://sparkbyexamples.com/pandas/pandas-check-column-contains-a-value-in-dataframe/)"
   ]
  },
  {
   "cell_type": "code",
   "execution_count": 13,
   "metadata": {},
   "outputs": [],
   "source": [
    "def get_recommendations(users_df: pd.DataFrame, \n",
    "                        movies_df: pd.DataFrame, \n",
    "                        ratings_df: pd.DataFrame, \n",
    "                        full_name: str, \n",
    "                        method: str, \n",
    "                        year: int):\n",
    "    \"\"\"\n",
    "    Return the title of the most highly recommended movie for the given user. \n",
    "    All methods should return a movie title that has not yet been rated by the given user.\n",
    "    If there is more than one movie that meets the condition, the function should return the first \n",
    "    movie in alphabetical order. \n",
    "\n",
    "    users:     information about users with the columns (user id, full name, age, gender, zip code)\n",
    "    ratings:   information about movie ratings by users with the columns (user id, item id, rating, timestamp)\n",
    "    movies:    information about movies with the columns (movie id, movie title and release year)\n",
    "    full name: full name of the user for whom we want to return one recommended movie\n",
    "               whose release year is equal to year using one of the three implemented methods \n",
    "    method:    method for recommending movie ('by_popularity', 'by_rating' or 'by_similar_users') \n",
    "    year:      movie release year\n",
    "    \"\"\"\n",
    "\n",
    "    if not full_name in users_df['full name'].unique():\n",
    "        raise ValueError(f'{full_name} does not exist in the database, please check your input carefully!')\n",
    "    \n",
    "    if not year in movies_df['release year'].unique():\n",
    "        raise ValueError(f'No movies released in {year} in the database, please choose again!')\n",
    "    \n",
    "    user_id = get_user_id(full_name, users_df)\n",
    "    movie_ids_not_rated = ignore_movies_rated_by_user(user_id, ratings_df)\n",
    "    movie_ids_not_rated = collate_all_movie_info(movie_ids_not_rated, movies_df)\n",
    "    movie_ids_single_year = select_single_year(year, movie_ids_not_rated)\n",
    "\n",
    "    if method == \"by_popularity\":\n",
    "        movie_title = choose_movie_by_popularity(movie_ids_single_year)\n",
    "    elif method == \"by_rating\":\n",
    "        movie_title = choose_movie_by_rating(movie_ids_single_year)\n",
    "    else:\n",
    "        raise ValueError('Chosen method does not exist; please either choose \"by_popularity\" or \"by_rating\"!')\n",
    "\n",
    "    return movie_title\n"
   ]
  },
  {
   "cell_type": "markdown",
   "metadata": {},
   "source": [
    "### Call the main function `get_recommendations`"
   ]
  },
  {
   "cell_type": "code",
   "execution_count": 14,
   "metadata": {},
   "outputs": [
    {
     "data": {
      "text/plain": [
       "('Beauty and the Beast (1991)', 'Ryan James')"
      ]
     },
     "execution_count": 14,
     "metadata": {},
     "output_type": "execute_result"
    }
   ],
   "source": [
    "full_name = users_df['full name'].iloc[0]\n",
    "year = 1991\n",
    "movie_title = get_recommendations(users_df, movies_df, ratings_df, full_name, \"by_popularity\", year)\n",
    "movie_title, full_name"
   ]
  },
  {
   "cell_type": "markdown",
   "metadata": {},
   "source": [
    "### What are the next steps? \n",
    "\n",
    "- Add tests for edge cases \n",
    "- Work out how to incorporate the `by_similar_users` method for choosing a movie"
   ]
  }
 ],
 "metadata": {
  "kernelspec": {
   "display_name": "shardy_env",
   "language": "python",
   "name": "python3"
  },
  "language_info": {
   "codemirror_mode": {
    "name": "ipython",
    "version": 3
   },
   "file_extension": ".py",
   "mimetype": "text/x-python",
   "name": "python",
   "nbconvert_exporter": "python",
   "pygments_lexer": "ipython3",
   "version": "3.7.6"
  },
  "orig_nbformat": 4
 },
 "nbformat": 4,
 "nbformat_minor": 2
}
